{
 "cells": [
  {
   "cell_type": "markdown",
   "metadata": {
    "collapsed": true,
    "pycharm": {
     "name": "#%%"
    }
   },
   "source": [
    "# Codingame - Skynet Revolution Episode 2\n",
    "\n",
    "## Challenge\n",
    "### The Goal\n",
    "Skynet is responding to your intrusion and has activated additional defenses:\n",
    "Most of the links have been reinforced: your virus no longer has the possibility to destroy a link between two ordinary nodes, it can now only sever links leading to gateways. If it attempts to cut a link between two ordinary nodes it will be detected and deleted.\n",
    "Nodes may now be connected to up to two gateways!\n",
    "There are six new tests to pass in this final confrontation.\n",
    "\n",
    "Do not hesitate to copy/paste your code from level 1 to level 2.\n",
    "\n",
    "Recap:\n",
    "\n",
    "Your virus has caused a backdoor to open on the Skynet network enabling you to send new instructions in real time.\n",
    "\n",
    "You decide to take action by stopping Skynet from communicating on its own internal network.\n",
    "\n",
    "Skynet's network is divided into several smaller networks, in each sub-network is a Skynet agent tasked with transferring information by moving from node to node along links and accessing gateways leading to other sub-networks.\n",
    "\n",
    "Your mission is to reprogram the virus so it will sever links in such a way that the Skynet Agent is unable to access another sub-network thus preventing information concerning the presence of our virus to reach Skynet's central hub.\n",
    "\n",
    "### Rules\n",
    "For each test you are given:\n",
    "A map of the network.\n",
    "The position of the exit gateways.\n",
    "The starting position of the Skynet agent.\n",
    "\n",
    "Each game turn:\n",
    "First off, you sever one of the given links in the network.\n",
    "Then the Skynet agent moves from one Node to another accessible Node.\n",
    "\n",
    "### Game Input\n",
    "The program must first read the initialization data from standard input. Then, within an infinite loop, read the data from the standard input related to the current state of the Skynet agent and provide to the standard output the next instruction.\n",
    "\n",
    "#### Example\n",
    "4 4 1\n",
    "0 1\n",
    "0 2\n",
    "1 3\n",
    "2 3\n",
    "3\n",
    "\n",
    "#### Initialization input \n",
    "Text representation of the network used in this example. There are 4 nodes, 4 links and 1 gateway. The next 4 lines describe the links. The last integer is the index of the exit node.\n",
    "\n",
    "Line 1: 3 integers N L E\n",
    "- N, the total number of nodes in the level, including the gateways.\n",
    "- L, the number of links in the level.\n",
    "- E, the number of exit gateways in the level.\n",
    "\n",
    "Next L lines: 2 integers per line (N1, N2), indicating a link between the nodes indexed N1 and N2 in the network.\n",
    "\n",
    "Next E lines: 1 integer EI representing the index of a gateway node.\n",
    "\n",
    "#### Input for one game turn\n",
    "Line 1: 1 integer SI, which is the index of the node on which the Skynet agent is positioned this turn.\n",
    "\n",
    "#### Output for one game turn\n",
    "A single line comprised of two integers C1 and C2 separated by a space. C1 and C2 are the indices of the nodes you wish to sever the link between.\n",
    "\n",
    "#### Constraints\n",
    "2 ≤ N ≤ 500\n",
    "1 ≤ L ≤ 1000\n",
    "1 ≤ E ≤ 20\n",
    "0 ≤ N1, N2 < N\n",
    "0 ≤ SI < N\n",
    "0 ≤ C1, C2 < N\n",
    "Response time per turn ≤ 150ms"
   ]
  },
  {
   "cell_type": "markdown",
   "metadata": {},
   "source": [
    "## The Code\n",
    "### This is required code by the game engine\n",
    "This determines how the game state will be read by our script"
   ]
  },
  {
   "cell_type": "code",
   "execution_count": 2,
   "metadata": {},
   "outputs": [
    {
     "name": "stdout",
     "output_type": "stream",
     "text": [
      "4 4 1\n"
     ]
    },
    {
     "name": "stderr",
     "output_type": "stream",
     "text": [
      "4 4 1\n"
     ]
    },
    {
     "name": "stdout",
     "output_type": "stream",
     "text": [
      "0 1\n"
     ]
    },
    {
     "name": "stderr",
     "output_type": "stream",
     "text": [
      "0 1\n"
     ]
    },
    {
     "name": "stdout",
     "output_type": "stream",
     "text": [
      "0 2\n"
     ]
    },
    {
     "name": "stderr",
     "output_type": "stream",
     "text": [
      "0 2\n"
     ]
    },
    {
     "name": "stdout",
     "output_type": "stream",
     "text": [
      "1 3\n"
     ]
    },
    {
     "name": "stderr",
     "output_type": "stream",
     "text": [
      "1 3\n"
     ]
    },
    {
     "name": "stdout",
     "output_type": "stream",
     "text": [
      "2 3\n"
     ]
    },
    {
     "name": "stderr",
     "output_type": "stream",
     "text": [
      "2 3\n"
     ]
    },
    {
     "name": "stdout",
     "output_type": "stream",
     "text": [
      "3\n"
     ]
    },
    {
     "name": "stderr",
     "output_type": "stream",
     "text": [
      "3\n"
     ]
    }
   ],
   "source": [
    "import sys\n",
    "import math\n",
    "import heapq\n",
    "\n",
    "# Auto-generated code below aims at helping you parse\n",
    "# the standard input according to the problem statement.\n",
    "\n",
    "# n: the total number of nodes in the level, including the gateways\n",
    "# l: the number of links\n",
    "# e: the number of exit gateways\n",
    "\n",
    "links_map = {}\n",
    "\n",
    "n, l, e = [int(i) for i in input().split()]\n",
    "print(\" \".join([str(n), str(l), str(e)]), file=sys.stderr)\n",
    "for i in range(l):\n",
    "    # n1: N1 and N2 defines a link between these nodes\n",
    "    n1, n2 = [int(j) for j in input().split()]\n",
    "    print(\" \".join([str(n1), str(n2)]), file=sys.stderr)\n",
    "\n",
    "    if n1 not in links_map:\n",
    "        links_map[n1] = [n2]\n",
    "    else:\n",
    "        links_map.get(n1).append(n2)\n",
    "\n",
    "    # Record the reverse vertice for practical purposes\n",
    "    if n2 not in links_map:\n",
    "        links_map[n2] = [n1]\n",
    "    else:\n",
    "        links_map.get(n2).append(n1)\n",
    "\n",
    "gateway_nodes = []\n",
    "\n",
    "for i in range(e):\n",
    "    e1 = int(input())  # the index of a gateway node\n",
    "    print(str(e1), file=sys.stderr)\n",
    "    gateway_nodes.append(e1)"
   ]
  },
  {
   "cell_type": "markdown",
   "metadata": {},
   "source": [
    "## Define a Graph class to keep track of the game state by ourselves"
   ]
  },
  {
   "cell_type": "code",
   "execution_count": 3,
   "metadata": {},
   "outputs": [],
   "source": [
    "class Graph:\n",
    "    \"\"\"\n",
    "    This class provides and abstraction of how the game space looks like\n",
    "    \"\"\"\n",
    "\n",
    "    DEFAULT_LENGTH = 1\n",
    "    SAFE_DISTANCE = 2\n",
    "\n",
    "    def __init__(self, edges: dict, goals: list):\n",
    "        self.nodes = edges.keys()\n",
    "        self.goal_nodes = goals\n",
    "        self.edges = edges\n",
    "\n",
    "    def sever_link(self, from_node: int, to_node: int):\n",
    "        \"\"\"This removes the edges between two nodes in this Graph\"\"\"\n",
    "        self.edges.get(from_node).remove(to_node)\n",
    "        self.edges.get(to_node).remove(from_node)\n",
    "\n",
    "    def dijsktra_distances(self, from_node: int) -> tuple:\n",
    "        \"\"\"\n",
    "        Calculate the Dijsktra distances from a given node to all of the other nodes in this Graph.\n",
    "        Dijsktra calculates the shortest path between two nodes, even if there are multiple paths connecting them\n",
    "        :param from_node: an int representing the ID of the node from which to calculate the distances\n",
    "        :return: a tuple of dict containing the distances to all the nodes in this Graph with respect to from_node\n",
    "        \"\"\"\n",
    "        dist = {}\n",
    "        prev = {}\n",
    "        heap_queue = []\n",
    "\n",
    "        for n1 in self.nodes:\n",
    "            priority = math.inf if n1 != from_node else 0\n",
    "            dist[n1] = priority\n",
    "            prev[n1] = None\n",
    "\n",
    "            # heapq uses a tuple where the first element is the value to order\n",
    "            heap_queue.append((priority, n1))\n",
    "\n",
    "        heapq.heapify(heap_queue)\n",
    "\n",
    "        while heap_queue:\n",
    "            u = heapq.heappop(heap_queue)[1]\n",
    "\n",
    "            for v in self.edges.get(u):\n",
    "                alt = dist.get(u) + Graph.DEFAULT_LENGTH\n",
    "\n",
    "                if alt < dist.get(v):\n",
    "                    dist[v] = alt\n",
    "                    prev[v] = u\n",
    "\n",
    "                    # Update value of neighbor v\n",
    "                    for i in range(len(heap_queue)):\n",
    "                        priority, n1 = heap_queue[i]\n",
    "\n",
    "                        if n1 == v:\n",
    "                            heap_queue[i] = (alt, v)\n",
    "                            break\n",
    "\n",
    "            heapq.heapify(heap_queue)\n",
    "\n",
    "        return dist, prev\n",
    "\n",
    "    def filter_dijsktra_distances_to_goals(self, dist: dict, prev: dict) -> tuple:\n",
    "        \"\"\"\n",
    "        Filter the distances to show only the distance information related for the Gateway nodes\n",
    "        :param dist: a dict with the distances for all the nodes\n",
    "        :param prev: a dict with the information for previous nodes\n",
    "        :return: a tuple with the dist and prev for goal nodes only\n",
    "        \"\"\"\n",
    "        new_dist = {}\n",
    "        new_prev = {}\n",
    "\n",
    "        for g in self.goal_nodes:\n",
    "            goal_distance = dist.get(g)\n",
    "\n",
    "            # This asks, is there a path to the goal? Goals with no available path have a distance == INFINITY\n",
    "            if goal_distance != math.inf:\n",
    "                new_dist[g] = dist.get(g)\n",
    "                new_prev[g] = prev.get(g)\n",
    "        return new_dist, new_prev\n",
    "\n",
    "    def get_gateway_to_shutdown(self, d: dict, p: dict) -> tuple:\n",
    "        \"\"\"\n",
    "        Calculates the edge to shutdown based on the urgency to do so. This urgency is calculated by how close the agent\n",
    "        is to the nearest gateway.\n",
    "        :param d: a dict with the distances to the node the agent is currently in\n",
    "        :param p: a dict with the predecessors for each of the nodes\n",
    "        :return: a tuple with the edge represented by two vertex to sever\n",
    "        \"\"\"\n",
    "        # This will let us switch between gateway nodes and make sure we have a better chance at catching the agent\n",
    "        goal_dist, goal_prev = self.filter_dijsktra_distances_to_goals(d, p)\n",
    "\n",
    "        # Get the closest Gateway\n",
    "        candidate_gateway = min(goal_dist, key=goal_dist.get)\n",
    "\n",
    "        min_value = goal_dist[candidate_gateway]\n",
    "\n",
    "        if min_value < Graph.SAFE_DISTANCE:  # The next gateway is not at a safe distance, shut it down ASAP!\n",
    "\n",
    "            from_node = p.get(candidate_gateway)\n",
    "\n",
    "        elif Graph.SAFE_DISTANCE <= min_value <= Graph.SAFE_DISTANCE:\n",
    "            # We have leeway to start shutting down problematic nodes that lead to two different gateways\n",
    "            problem_node_count = self.get_problem_node_count()\n",
    "\n",
    "            if not problem_node_count:  # If there are no problems, return the candidate_gateway\n",
    "                return p.get(candidate_gateway), candidate_gateway\n",
    "\n",
    "            problem_distance = math.inf\n",
    "            most_problematic_node = None\n",
    "            gateway_connected_to_problem_node = None\n",
    "\n",
    "            for k in problem_node_count.keys():\n",
    "                if d[k] < problem_distance:\n",
    "                    problem_distance = problem_node_count[k][0]\n",
    "                    most_problematic_node = k\n",
    "                    gateway_connected_to_problem_node = problem_node_count[k][1]\n",
    "\n",
    "            candidate_gateway = gateway_connected_to_problem_node\n",
    "            from_node = most_problematic_node\n",
    "\n",
    "            return from_node, candidate_gateway\n",
    "\n",
    "        else:\n",
    "            # We have leeway to start shutting down problematic nodes that lead to two different gateways\n",
    "            problem_node_count = self.get_problem_node_count()\n",
    "\n",
    "            if not problem_node_count:  # If there are no problems, return the candidate_gateway\n",
    "                return p.get(candidate_gateway), candidate_gateway\n",
    "\n",
    "            problem_distance = math.inf\n",
    "            most_problematic_node = None\n",
    "            gateway_connected_to_problem_node = None\n",
    "\n",
    "            for k in problem_node_count.keys():\n",
    "                if d[k] < problem_distance:\n",
    "                    problem_distance = problem_node_count[k][0]\n",
    "                    most_problematic_node = k\n",
    "                    gateway_connected_to_problem_node = problem_node_count[k][1]\n",
    "\n",
    "            candidate_gateway = gateway_connected_to_problem_node\n",
    "            from_node = most_problematic_node\n",
    "\n",
    "        return from_node, candidate_gateway\n",
    "\n",
    "    def get_problem_node_count(self) -> dict:\n",
    "        \"\"\"\n",
    "        Get a dict with all of the nodes for which there is more than one edge. This will help us detect double-entry\n",
    "            gateways\n",
    "        :return: a dict with Gateway nodes with more than one entry edge\n",
    "        \"\"\"\n",
    "        problem_node_count = {}\n",
    "\n",
    "        for g in self.goal_nodes:\n",
    "            for neighbor in self.edges.get(g):\n",
    "                if neighbor in problem_node_count:\n",
    "                    problem_node_count[neighbor][0] += 1\n",
    "                else:\n",
    "                    problem_node_count[neighbor] = [1, g]  # The second position of the tuple is the gateway\n",
    "        problem_node_count = {k: v for k, v in problem_node_count.items() if v[0] >= 2}\n",
    "        return problem_node_count"
   ]
  },
  {
   "cell_type": "markdown",
   "metadata": {},
   "source": [
    "## Read the game state using our Graph class and define the main Game loop"
   ]
  },
  {
   "cell_type": "code",
   "execution_count": null,
   "metadata": {},
   "outputs": [],
   "source": [
    "# Initialize the representation of the game map\n",
    "network = Graph(links_map, gateway_nodes)\n",
    "previous_from_node_sever_link = -1\n",
    "\n",
    "# Write an action using print\n",
    "# To debug: print(\"Debug messages...\", file=sys.stderr)\n",
    "\n",
    "# Example: 0 1 are the indices of the nodes you wish to sever the link between\n",
    "# print(\"0 1\")\n",
    "\n",
    "# Calculate the distance from the nodes that lead to gateways to the agent so that we can\n",
    "#  shut them down first, this is a Best-First search\n",
    "\n",
    "# game loop\n",
    "while True:\n",
    "    si = int(input())  # The index of the node on which the Skynet agent is positioned this turn\n",
    "    print(f\"Agent is at: str(si)\", file=sys.stderr)\n",
    "\n",
    "    # Calculate the Dijsktra distances to all nodes for the current position of the agent\n",
    "    distances, previous_nodes = network.dijsktra_distances(si)\n",
    "\n",
    "    # If there is not a path to the Gateways (the goals) then we are done, the Agent can no longer escape!\n",
    "    if not network.filter_dijsktra_distances_to_goals(distances, previous_nodes)[0]:\n",
    "        break\n",
    "\n",
    "    # Get the coordinates for the most urgent edge to sever\n",
    "    from_node_sever_link, gateway_to_shutdown = network.get_gateway_to_shutdown(distances, previous_nodes)\n",
    "\n",
    "    # Print the coordinates so that the game engine severs the edge in its own game map\n",
    "    print(f\"{str(from_node_sever_link)} {str(gateway_to_shutdown)}\")\n",
    "\n",
    "    # Sever the link from our own representation of the game map\n",
    "    network.sever_link(from_node_sever_link, gateway_to_shutdown)"
   ]
  }
 ],
 "metadata": {
  "kernelspec": {
   "display_name": "Python 3",
   "language": "python",
   "name": "python3"
  },
  "language_info": {
   "codemirror_mode": {
    "name": "ipython",
    "version": 3
   },
   "file_extension": ".py",
   "mimetype": "text/x-python",
   "name": "python",
   "nbconvert_exporter": "python",
   "pygments_lexer": "ipython3",
   "version": "3.7.3"
  }
 },
 "nbformat": 4,
 "nbformat_minor": 1
}
